{
  "nbformat": 4,
  "nbformat_minor": 0,
  "metadata": {
    "colab": {
      "name": "variational autoencoder.ipynb",
      "version": "0.3.2",
      "provenance": [],
      "collapsed_sections": [],
      "include_colab_link": true
    },
    "kernelspec": {
      "name": "python3",
      "display_name": "Python 3"
    }
  },
  "cells": [
    {
      "cell_type": "markdown",
      "metadata": {
        "id": "view-in-github",
        "colab_type": "text"
      },
      "source": [
        "<a href=\"https://colab.research.google.com/github/kmeagle1515/VAE/blob/master/variational_autoencoder.ipynb\" target=\"_parent\"><img src=\"https://colab.research.google.com/assets/colab-badge.svg\" alt=\"Open In Colab\"/></a>"
      ]
    },
    {
      "cell_type": "code",
      "metadata": {
        "id": "AVkNEpAvbo16",
        "colab_type": "code",
        "colab": {}
      },
      "source": [
        "from tensorflow.examples.tutorials.mnist import input_data\n",
        "from keras.layers import Input, Dense, Lambda\n",
        "from keras.models import Model\n",
        "from keras.objectives import binary_crossentropy\n",
        "from keras.callbacks import LearningRateScheduler\n",
        "from keras.datasets import mnist\n",
        "import keras\n",
        "\n",
        "import numpy as np\n",
        "import keras.backend as K\n",
        "import tensorflow as tf\n",
        "import matplotlib.pyplot as plt\n",
        "\n",
        "m=50\n",
        "n_z=2\n",
        "n_epoch=10\n",
        "\n",
        "#encoder \n",
        "inputs=Input(shape=(784,))\n",
        "h_q=Dense(512, activation='relu')(inputs)   #why 512 ?\n",
        "mu=Dense(n_z, activation='linear')(h_q)\n",
        "log_sig=Dense(n_z, activation='linear')(h_q)\n",
        "\n",
        "#sampling latent variable\n",
        "def sample_z(args):\n",
        "    mu,log_sig= args\n",
        "    eps=K.random_normal(shape=(m,n_z), mean= 0 , stddev= 1)\n",
        "    return mu + K.exp(log_sig / 2)*eps\n",
        "\n",
        "#z ~Q(Z/X)\n",
        "z= Lambda(sample_z)([mu, log_sig])\n",
        "\n",
        "#decoder\n",
        "\n",
        "dec_hid= Dense(512, activation='relu')\n",
        "dec_out= Dense(784, activation= 'sigmoid')\n",
        "\n",
        "h_p=dec_hid(z)\n",
        "out=dec_out(h_p)\n",
        "d_in=Input(shape=(n_z, ))\n",
        "d_h= dec_hid(d_in)\n",
        "d_ou=dec_out(d_h)\n",
        "\n",
        "vae=Model(inputs,out)\n",
        "encoder=Model(inputs, mu)\n",
        "\n",
        "\n",
        "def vae_loss(y_true, y_pred):\n",
        "    \"\"\" Calculate loss = reconstruction loss + KL loss for each data in minibatch \"\"\"\n",
        "    # E[log P(X|z)]\n",
        "    recon = K.sum(K.binary_crossentropy(y_pred, y_true), axis=1)\n",
        "    # D_KL(Q(z|X) || P(z|X)); calculate in closed form as both dist. are Gaussian\n",
        "    kl = 0.5 * K.sum(K.exp(log_sig) + K.square(mu) - 1. - log_sig, axis=1)\n",
        "\n",
        "    return recon + kl\n",
        "\n",
        "vae.compile(optimizer='adam', loss=vae_loss)\n"
      ],
      "execution_count": 0,
      "outputs": []
    },
    {
      "cell_type": "code",
      "metadata": {
        "id": "BMj77yRqN2oU",
        "colab_type": "code",
        "colab": {}
      },
      "source": [
        ""
      ],
      "execution_count": 0,
      "outputs": []
    },
    {
      "cell_type": "code",
      "metadata": {
        "id": "5dnYrgEXKtZo",
        "colab_type": "code",
        "outputId": "0df18fd7-7115-4f19-d577-9d1a826902ac",
        "colab": {
          "base_uri": "https://localhost:8080/",
          "height": 489
        }
      },
      "source": [
        "(x_train, y_train), (x_test, y_test) = mnist.load_data()\n",
        "\n",
        "num_classes = 10\n",
        "x_train = x_train.reshape(60000, 784)\n",
        "x_test = x_test.reshape(10000, 784)\n",
        "x_train = x_train.astype('float32')\n",
        "x_test = x_test.astype('float32')\n",
        "x_train /= 255\n",
        "x_test /= 255\n",
        "y_train = keras.utils.to_categorical(y_train, num_classes)\n",
        "y_test = keras.utils.to_categorical(y_test, num_classes)\n",
        "\n",
        "vae.fit(x_train, x_train, batch_size=m, nb_epoch=n_epoch)\n",
        "\n"
      ],
      "execution_count": 0,
      "outputs": [
        {
          "output_type": "stream",
          "text": [
            "WARNING:tensorflow:From /usr/local/lib/python3.6/dist-packages/tensorflow/python/ops/math_ops.py:3066: to_int32 (from tensorflow.python.ops.math_ops) is deprecated and will be removed in a future version.\n",
            "Instructions for updating:\n",
            "Use tf.cast instead.\n"
          ],
          "name": "stdout"
        },
        {
          "output_type": "stream",
          "text": [
            "/usr/local/lib/python3.6/dist-packages/ipykernel_launcher.py:13: UserWarning: The `nb_epoch` argument in `fit` has been renamed `epochs`.\n",
            "  del sys.path[0]\n"
          ],
          "name": "stderr"
        },
        {
          "output_type": "stream",
          "text": [
            "Epoch 1/10\n",
            "60000/60000 [==============================] - 26s 428us/step - loss: 491.6520\n",
            "Epoch 2/10\n",
            "60000/60000 [==============================] - 24s 408us/step - loss: 432.7177\n",
            "Epoch 3/10\n",
            "60000/60000 [==============================] - 25s 416us/step - loss: 431.2271\n",
            "Epoch 4/10\n",
            "60000/60000 [==============================] - 24s 408us/step - loss: 431.0615\n",
            "Epoch 5/10\n",
            "60000/60000 [==============================] - 24s 402us/step - loss: 431.0524\n",
            "Epoch 6/10\n",
            "60000/60000 [==============================] - 24s 395us/step - loss: 431.0502\n",
            "Epoch 7/10\n",
            "60000/60000 [==============================] - 25s 419us/step - loss: 431.0494\n",
            "Epoch 8/10\n",
            "60000/60000 [==============================] - 25s 418us/step - loss: 431.0489\n",
            "Epoch 9/10\n",
            "60000/60000 [==============================] - 25s 414us/step - loss: 431.0486\n",
            "Epoch 10/10\n",
            "60000/60000 [==============================] - 25s 423us/step - loss: 431.0484\n"
          ],
          "name": "stdout"
        },
        {
          "output_type": "execute_result",
          "data": {
            "text/plain": [
              "<keras.callbacks.History at 0x7fd30f022eb8>"
            ]
          },
          "metadata": {
            "tags": []
          },
          "execution_count": 19
        }
      ]
    }
  ]
}